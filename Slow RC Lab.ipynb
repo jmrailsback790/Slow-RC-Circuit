{
 "cells": [
  {
   "cell_type": "code",
   "execution_count": 26,
   "metadata": {},
   "outputs": [
    {
     "data": {
      "text/plain": [
       "[<matplotlib.lines.Line2D at 0x26580204400>]"
      ]
     },
     "execution_count": 26,
     "metadata": {},
     "output_type": "execute_result"
    },
    {
     "data": {
      "image/png": "[encoded data removed]",
      "text/plain": [
       "<Figure size 432x288 with 1 Axes>"
      ]
     },
     "metadata": {
      "needs_background": "light"
     },
     "output_type": "display_data"
    }
   ],
   "source": [
    "#Slow RC Circuit Lab\n",
    "import numpy as np\n",
    "import math as math\n",
    "import matplotlib.pyplot as plt\n",
    "#Charging\n",
    "V = np.array ([0, 1.96, 3.33, 4.17, 4.77, 5.17, 5.45, 5.64, 5.77, 5.85, 5.91, 5.96, 5.99])\n",
    "t = np.array([0, 10, 20, 30, 40, 50, 60, 70, 80, 90, 100, 110, 120])\n",
    "\n",
    "plt.xlabel('Time in seconds')\n",
    "plt.ylabel('Voltage')\n",
    "plt.scatter(t, V)\n",
    "plt.plot(t, V)\n",
    "\n",
    "#Discharging\n",
    "V = np.array ([6.41, 4.29, 2.87, 1.98, 1.32, .88, .60, .40, .27, .17, .11, .07, .04])\n",
    "t = np.array([0, 10, 20, 30, 40, 50, 60, 70, 80, 90, 100, 110, 120])\n",
    "\n",
    "plt.scatter(t, V)\n",
    "plt.plot(t, V)\n"
   ]
  },
  {
   "cell_type": "code",
   "execution_count": 21,
   "metadata": {},
   "outputs": [
    {
     "name": "stdout",
     "output_type": "stream",
     "text": [
      "0.1930802941783549\n",
      "0.03346640106136282\n"
     ]
    }
   ],
   "source": [
    "#Experiment 2\n",
    "tVd = (26.7, 27.5, 26.4, 27.3, 27.4)\n",
    "tVc = (28.1, 28.3, 28.2, 28.2, 28.1)\n",
    "\n",
    "err_tVd = (np.std(tVd) / math.sqrt(5))\n",
    "print(err_tVd)\n",
    "err_tVc = (np.std(tVc) / math.sqrt(5))\n",
    "print(err_tVc)"
   ]
  },
  {
   "cell_type": "code",
   "execution_count": 25,
   "metadata": {},
   "outputs": [
    {
     "name": "stdout",
     "output_type": "stream",
     "text": [
      "23.575499999999998\n",
      "0.05070002132396001\n"
     ]
    }
   ],
   "source": [
    "#Experiment 3 \n",
    "R = 507000\n",
    "err_R = 1\n",
    "C = 0.0000465\n",
    "err_C = 0.0000001\n",
    "\n",
    "T = R * C \n",
    "print(T)\n",
    "\n",
    "err_T = T * math.sqrt((err_R / R) ** 2 + (err_C / C) ** 2)\n",
    "print(err_T)"
   ]
  }
 ],
 "metadata": {
  "kernelspec": {
   "display_name": "Python 3",
   "language": "python",
   "name": "python3"
  },
  "language_info": {
   "codemirror_mode": {
    "name": "ipython",
    "version": 3
   },
   "file_extension": ".py",
   "mimetype": "text/x-python",
   "name": "python",
   "nbconvert_exporter": "python",
   "pygments_lexer": "ipython3",
   "version": "3.8.5"
  }
 },
 "nbformat": 4,
 "nbformat_minor": 4
}
